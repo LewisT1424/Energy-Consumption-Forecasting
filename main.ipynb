{
 "cells": [
  {
   "cell_type": "markdown",
   "metadata": {},
   "source": [
    "# Importing Necessary Libraries"
   ]
  },
  {
   "cell_type": "code",
   "execution_count": 1,
   "metadata": {},
   "outputs": [],
   "source": [
    "import pandas as pd\n",
    "import numpy as np"
   ]
  },
  {
   "cell_type": "code",
   "execution_count": 2,
   "metadata": {},
   "outputs": [
    {
     "name": "stderr",
     "output_type": "stream",
     "text": [
      "/tmp/ipykernel_141382/3579485128.py:2: DtypeWarning: Columns (2,3,4,5,6,7) have mixed types. Specify dtype option on import or set low_memory=False.\n",
      "  df = pd.read_csv('household_power_consumption.txt', sep=';')\n"
     ]
    },
    {
     "data": {
      "text/html": [
       "<div>\n",
       "<style scoped>\n",
       "    .dataframe tbody tr th:only-of-type {\n",
       "        vertical-align: middle;\n",
       "    }\n",
       "\n",
       "    .dataframe tbody tr th {\n",
       "        vertical-align: top;\n",
       "    }\n",
       "\n",
       "    .dataframe thead th {\n",
       "        text-align: right;\n",
       "    }\n",
       "</style>\n",
       "<table border=\"1\" class=\"dataframe\">\n",
       "  <thead>\n",
       "    <tr style=\"text-align: right;\">\n",
       "      <th></th>\n",
       "      <th>Date</th>\n",
       "      <th>Time</th>\n",
       "      <th>Global_active_power</th>\n",
       "      <th>Global_reactive_power</th>\n",
       "      <th>Voltage</th>\n",
       "      <th>Global_intensity</th>\n",
       "      <th>Sub_metering_1</th>\n",
       "      <th>Sub_metering_2</th>\n",
       "      <th>Sub_metering_3</th>\n",
       "    </tr>\n",
       "  </thead>\n",
       "  <tbody>\n",
       "    <tr>\n",
       "      <th>0</th>\n",
       "      <td>16/12/2006</td>\n",
       "      <td>17:24:00</td>\n",
       "      <td>4.216</td>\n",
       "      <td>0.418</td>\n",
       "      <td>234.840</td>\n",
       "      <td>18.400</td>\n",
       "      <td>0.000</td>\n",
       "      <td>1.000</td>\n",
       "      <td>17.0</td>\n",
       "    </tr>\n",
       "    <tr>\n",
       "      <th>1</th>\n",
       "      <td>16/12/2006</td>\n",
       "      <td>17:25:00</td>\n",
       "      <td>5.360</td>\n",
       "      <td>0.436</td>\n",
       "      <td>233.630</td>\n",
       "      <td>23.000</td>\n",
       "      <td>0.000</td>\n",
       "      <td>1.000</td>\n",
       "      <td>16.0</td>\n",
       "    </tr>\n",
       "    <tr>\n",
       "      <th>2</th>\n",
       "      <td>16/12/2006</td>\n",
       "      <td>17:26:00</td>\n",
       "      <td>5.374</td>\n",
       "      <td>0.498</td>\n",
       "      <td>233.290</td>\n",
       "      <td>23.000</td>\n",
       "      <td>0.000</td>\n",
       "      <td>2.000</td>\n",
       "      <td>17.0</td>\n",
       "    </tr>\n",
       "    <tr>\n",
       "      <th>3</th>\n",
       "      <td>16/12/2006</td>\n",
       "      <td>17:27:00</td>\n",
       "      <td>5.388</td>\n",
       "      <td>0.502</td>\n",
       "      <td>233.740</td>\n",
       "      <td>23.000</td>\n",
       "      <td>0.000</td>\n",
       "      <td>1.000</td>\n",
       "      <td>17.0</td>\n",
       "    </tr>\n",
       "    <tr>\n",
       "      <th>4</th>\n",
       "      <td>16/12/2006</td>\n",
       "      <td>17:28:00</td>\n",
       "      <td>3.666</td>\n",
       "      <td>0.528</td>\n",
       "      <td>235.680</td>\n",
       "      <td>15.800</td>\n",
       "      <td>0.000</td>\n",
       "      <td>1.000</td>\n",
       "      <td>17.0</td>\n",
       "    </tr>\n",
       "  </tbody>\n",
       "</table>\n",
       "</div>"
      ],
      "text/plain": [
       "         Date      Time Global_active_power Global_reactive_power  Voltage  \\\n",
       "0  16/12/2006  17:24:00               4.216                 0.418  234.840   \n",
       "1  16/12/2006  17:25:00               5.360                 0.436  233.630   \n",
       "2  16/12/2006  17:26:00               5.374                 0.498  233.290   \n",
       "3  16/12/2006  17:27:00               5.388                 0.502  233.740   \n",
       "4  16/12/2006  17:28:00               3.666                 0.528  235.680   \n",
       "\n",
       "  Global_intensity Sub_metering_1 Sub_metering_2  Sub_metering_3  \n",
       "0           18.400          0.000          1.000            17.0  \n",
       "1           23.000          0.000          1.000            16.0  \n",
       "2           23.000          0.000          2.000            17.0  \n",
       "3           23.000          0.000          1.000            17.0  \n",
       "4           15.800          0.000          1.000            17.0  "
      ]
     },
     "execution_count": 2,
     "metadata": {},
     "output_type": "execute_result"
    }
   ],
   "source": [
    "# Read data from .txt file\n",
    "df = pd.read_csv('household_power_consumption.txt', sep=';')\n",
    "\n",
    "# Viewing data\n",
    "df.head()"
   ]
  },
  {
   "cell_type": "markdown",
   "metadata": {},
   "source": [
    "## Data Cleaning"
   ]
  },
  {
   "cell_type": "code",
   "execution_count": 3,
   "metadata": {},
   "outputs": [],
   "source": [
    "def cleaning(data):\n",
    "    # Remove Nan values from Sub_metering_3 column\n",
    "    data.dropna(subset=['Sub_metering_3'], inplace=True)\n",
    "\n",
    "    # Converting numerical data to float\n",
    "    data[df.columns[2:]] = data[df.columns[2:]].astype(float)\n",
    "\n",
    "    # Combining Date and Time to store into 1 column\n",
    "    data['Date'] = data['Date'] + \" \" + data['Time']\n",
    "\n",
    "    # Dropping Time column\n",
    "    data.drop(columns=['Time'], inplace=True)\n",
    "\n",
    "    # Converting Date column into datetime[ns] format\n",
    "    data['Date'] = pd.to_datetime(data['Date'], format='%d/%m/%Y %H:%M:%S')\n",
    "\n",
    "    return data"
   ]
  },
  {
   "cell_type": "code",
   "execution_count": 4,
   "metadata": {},
   "outputs": [],
   "source": [
    "data = cleaning(df)"
   ]
  },
  {
   "cell_type": "code",
   "execution_count": 5,
   "metadata": {},
   "outputs": [
    {
     "data": {
      "text/html": [
       "<div>\n",
       "<style scoped>\n",
       "    .dataframe tbody tr th:only-of-type {\n",
       "        vertical-align: middle;\n",
       "    }\n",
       "\n",
       "    .dataframe tbody tr th {\n",
       "        vertical-align: top;\n",
       "    }\n",
       "\n",
       "    .dataframe thead th {\n",
       "        text-align: right;\n",
       "    }\n",
       "</style>\n",
       "<table border=\"1\" class=\"dataframe\">\n",
       "  <thead>\n",
       "    <tr style=\"text-align: right;\">\n",
       "      <th></th>\n",
       "      <th>Date</th>\n",
       "      <th>Global_active_power</th>\n",
       "      <th>Global_reactive_power</th>\n",
       "      <th>Voltage</th>\n",
       "      <th>Global_intensity</th>\n",
       "      <th>Sub_metering_1</th>\n",
       "      <th>Sub_metering_2</th>\n",
       "      <th>Sub_metering_3</th>\n",
       "    </tr>\n",
       "  </thead>\n",
       "  <tbody>\n",
       "    <tr>\n",
       "      <th>0</th>\n",
       "      <td>2006-12-16 17:24:00</td>\n",
       "      <td>4.216</td>\n",
       "      <td>0.418</td>\n",
       "      <td>234.84</td>\n",
       "      <td>18.4</td>\n",
       "      <td>0.0</td>\n",
       "      <td>1.0</td>\n",
       "      <td>17.0</td>\n",
       "    </tr>\n",
       "    <tr>\n",
       "      <th>1</th>\n",
       "      <td>2006-12-16 17:25:00</td>\n",
       "      <td>5.360</td>\n",
       "      <td>0.436</td>\n",
       "      <td>233.63</td>\n",
       "      <td>23.0</td>\n",
       "      <td>0.0</td>\n",
       "      <td>1.0</td>\n",
       "      <td>16.0</td>\n",
       "    </tr>\n",
       "    <tr>\n",
       "      <th>2</th>\n",
       "      <td>2006-12-16 17:26:00</td>\n",
       "      <td>5.374</td>\n",
       "      <td>0.498</td>\n",
       "      <td>233.29</td>\n",
       "      <td>23.0</td>\n",
       "      <td>0.0</td>\n",
       "      <td>2.0</td>\n",
       "      <td>17.0</td>\n",
       "    </tr>\n",
       "    <tr>\n",
       "      <th>3</th>\n",
       "      <td>2006-12-16 17:27:00</td>\n",
       "      <td>5.388</td>\n",
       "      <td>0.502</td>\n",
       "      <td>233.74</td>\n",
       "      <td>23.0</td>\n",
       "      <td>0.0</td>\n",
       "      <td>1.0</td>\n",
       "      <td>17.0</td>\n",
       "    </tr>\n",
       "    <tr>\n",
       "      <th>4</th>\n",
       "      <td>2006-12-16 17:28:00</td>\n",
       "      <td>3.666</td>\n",
       "      <td>0.528</td>\n",
       "      <td>235.68</td>\n",
       "      <td>15.8</td>\n",
       "      <td>0.0</td>\n",
       "      <td>1.0</td>\n",
       "      <td>17.0</td>\n",
       "    </tr>\n",
       "  </tbody>\n",
       "</table>\n",
       "</div>"
      ],
      "text/plain": [
       "                 Date  Global_active_power  Global_reactive_power  Voltage  \\\n",
       "0 2006-12-16 17:24:00                4.216                  0.418   234.84   \n",
       "1 2006-12-16 17:25:00                5.360                  0.436   233.63   \n",
       "2 2006-12-16 17:26:00                5.374                  0.498   233.29   \n",
       "3 2006-12-16 17:27:00                5.388                  0.502   233.74   \n",
       "4 2006-12-16 17:28:00                3.666                  0.528   235.68   \n",
       "\n",
       "   Global_intensity  Sub_metering_1  Sub_metering_2  Sub_metering_3  \n",
       "0              18.4             0.0             1.0            17.0  \n",
       "1              23.0             0.0             1.0            16.0  \n",
       "2              23.0             0.0             2.0            17.0  \n",
       "3              23.0             0.0             1.0            17.0  \n",
       "4              15.8             0.0             1.0            17.0  "
      ]
     },
     "execution_count": 5,
     "metadata": {},
     "output_type": "execute_result"
    }
   ],
   "source": [
    "data.head()"
   ]
  },
  {
   "cell_type": "code",
   "execution_count": 14,
   "metadata": {},
   "outputs": [],
   "source": [
    "import matplotlib.pyplot as plt\n",
    "import seaborn as sns"
   ]
  },
  {
   "cell_type": "code",
   "execution_count": 15,
   "metadata": {},
   "outputs": [
    {
     "data": {
      "text/plain": [
       "<AxesSubplot:xlabel='Sub_metering_1', ylabel='Count'>"
      ]
     },
     "execution_count": 15,
     "metadata": {},
     "output_type": "execute_result"
    },
    {
     "data": {
      "image/png": "[encoded data removed]",
      "text/plain": [
       "<Figure size 640x480 with 1 Axes>"
      ]
     },
     "metadata": {},
     "output_type": "display_data"
    }
   ],
   "source": [
    "# Looking at distribution\n",
    "sns.histplot(data=df['Sub_metering_1'], bins=100)"
   ]
  },
  {
   "cell_type": "code",
   "execution_count": null,
   "metadata": {},
   "outputs": [],
   "source": [
    "sns.boxplot(x=df['Global_active_power'])"
   ]
  },
  {
   "cell_type": "code",
   "execution_count": 6,
   "metadata": {},
   "outputs": [],
   "source": [
    "import scipy.stats"
   ]
  },
  {
   "cell_type": "code",
   "execution_count": 7,
   "metadata": {},
   "outputs": [],
   "source": [
    "# Calculating Skewness values\n",
    "skewness = scipy.stats.skew(data.drop(columns='Date'))\n",
    "\n",
    "# Classifying each column's skewness\n",
    "\n",
    "high_skew = [data.drop(columns='Date').columns[i] for i in range(len(skewness)) if (skewness[i] < - 1) or (skewness[i] > 1)]"
   ]
  },
  {
   "cell_type": "code",
   "execution_count": 8,
   "metadata": {},
   "outputs": [
    {
     "name": "stdout",
     "output_type": "stream",
     "text": [
      "['Global_active_power', 'Global_reactive_power', 'Global_intensity', 'Sub_metering_1', 'Sub_metering_2']\n"
     ]
    }
   ],
   "source": [
    "print(high_skew)"
   ]
  },
  {
   "cell_type": "code",
   "execution_count": 9,
   "metadata": {},
   "outputs": [],
   "source": [
    "# Defining different feature transformation functions\n",
    "\n",
    "def log_transform(data, column):\n",
    "    data[f'{column}_Log'] = np.log1p(data[column])\n",
    "    return data\n",
    "\n",
    "def sqrt_transform(data, column):\n",
    "    data[f'{column}_Sqrt'] = np.sqrt(data[column])\n",
    "    return data\n",
    "\n",
    "def box_cox_transform(data, column):\n",
    "    data[f'{column}_boxcox'] = scipy.stats.boxcox(data[column])\n",
    "    return data\n",
    "\n",
    "def reciprocal_transform(data, column):\n",
    "    data[f'{column}_reciprocal'] = 1/ (data[column] + 1e-5)\n",
    "    return data\n",
    "\n",
    "def yeo_johnson_transform(data, column):\n",
    "    from sklearn.preprocessing import PowerTransformer\n",
    "    pt = PowerTransformer(method='yeo-johnson')\n",
    "    data[f'{column}_yeo_johnson'] = pt.fit_transform(data[[column]])\n",
    "    return data\n",
    "\n",
    "def clipping_transform(data, column):\n",
    "    upper_lim = data[column].quantile(0.95)\n",
    "    data[f'{column}_clipping'] = np.where(data[column] > upper_lim, upper_lim, data[column])\n",
    "    return data\n",
    "\n",
    "def log_binning_transform(data, column):\n",
    "    data[f'{column}_log_binning'] = pd.cut(np.log1p(data[column]), bins=5, labels=False)\n",
    "    return data"
   ]
  },
  {
   "cell_type": "code",
   "execution_count": null,
   "metadata": {},
   "outputs": [],
   "source": [
    "data['Global_active_power'].quantile(0.95)"
   ]
  },
  {
   "cell_type": "code",
   "execution_count": 10,
   "metadata": {},
   "outputs": [],
   "source": [
    "transformations = {'Log': log_transform,\n",
    "                   'Sqrt': sqrt_transform,\n",
    "                   'reciprocal': reciprocal_transform,\n",
    "                   'yeo_johnson': yeo_johnson_transform,\n",
    "                   'clipping': clipping_transform,\n",
    "                   'log_binning': log_binning_transform}"
   ]
  },
  {
   "cell_type": "code",
   "execution_count": 12,
   "metadata": {},
   "outputs": [
    {
     "name": "stdout",
     "output_type": "stream",
     "text": [
      "Log TRANSFORMATION\n",
      "Global_active_power: Skewness = 1.7862320846320818\n",
      "Global_active_power_Log: Skewness = 0.7394033993766909\n",
      "Global_reactive_power: Skewness = 1.261913273793962\n",
      "Global_reactive_power_Log: Skewness = 0.9115075133976243\n",
      "Global_intensity: Skewness = 1.8490985505960675\n",
      "Global_intensity_Log: Skewness = 0.3904183310515181\n",
      "Sub_metering_1: Skewness = 5.94453693037052\n",
      "Sub_metering_1_Log: Skewness = 4.915854923426867\n",
      "Sub_metering_2: Skewness = 7.090548040309821\n",
      "Sub_metering_2_Log: Skewness = 3.2191752617720044\n",
      "---------------------------------------\n",
      "Sqrt TRANSFORMATION\n",
      "Global_active_power: Skewness = 1.7862320846320818\n",
      "Global_active_power_Sqrt: Skewness = 0.8051615682679741\n",
      "Global_reactive_power: Skewness = 1.261913273793962\n",
      "Global_reactive_power_Sqrt: Skewness = -0.22842416500773022\n",
      "Global_intensity: Skewness = 1.8490985505960675\n",
      "Global_intensity_Sqrt: Skewness = 0.8243679956703556\n",
      "Sub_metering_1: Skewness = 5.94453693037052\n",
      "Sub_metering_1_Sqrt: Skewness = 5.166511851159131\n",
      "Sub_metering_2: Skewness = 7.090548040309821\n",
      "Sub_metering_2_Sqrt: Skewness = 3.96085389391296\n",
      "---------------------------------------\n",
      "reciprocal TRANSFORMATION\n",
      "Global_active_power: Skewness = 1.7862320846320818\n",
      "Global_active_power_reciprocal: Skewness = 1.639742355092586\n",
      "Global_reactive_power: Skewness = 1.261913273793962\n",
      "Global_reactive_power_reciprocal: Skewness = 1.250066820023203\n",
      "Global_intensity: Skewness = 1.8490985505960675\n",
      "Global_intensity_reciprocal: Skewness = 3.8759927245815033\n",
      "Sub_metering_1: Skewness = 5.94453693037052\n",
      "Sub_metering_1_reciprocal: Skewness = -3.0345228752532862\n",
      "Sub_metering_2: Skewness = 7.090548040309821\n",
      "Sub_metering_2_reciprocal: Skewness = -0.8787987568822982\n",
      "---------------------------------------\n",
      "yeo_johnson TRANSFORMATION\n",
      "Global_active_power: Skewness = 1.7862320846320818\n",
      "Global_active_power_yeo_johnson: Skewness = 0.20868201683062207\n",
      "Global_reactive_power: Skewness = 1.261913273793962\n",
      "Global_reactive_power_yeo_johnson: Skewness = 0.10424965523002902\n",
      "Global_intensity: Skewness = 1.8490985505960675\n",
      "Global_intensity_yeo_johnson: Skewness = 0.09541024944613988\n",
      "Sub_metering_1: Skewness = 5.94453693037052\n",
      "Sub_metering_1_yeo_johnson: Skewness = 3.0346889023394192\n",
      "Sub_metering_2: Skewness = 7.090548040309821\n",
      "Sub_metering_2_yeo_johnson: Skewness = 0.9239242348732534\n",
      "---------------------------------------\n",
      "clipping TRANSFORMATION\n",
      "Global_active_power: Skewness = 1.7862320846320818\n",
      "Global_active_power_clipping: Skewness = 1.0167883832821167\n",
      "Global_reactive_power: Skewness = 1.261913273793962\n",
      "Global_reactive_power_clipping: Skewness = 0.6087974496128805\n",
      "Global_intensity: Skewness = 1.8490985505960675\n",
      "Global_intensity_clipping: Skewness = 1.0462560936784906\n",
      "Sub_metering_1: Skewness = 5.94453693037052\n",
      "Sub_metering_1_clipping: Skewness = 3.0345228751330393\n",
      "Sub_metering_2: Skewness = 7.090548040309821\n",
      "Sub_metering_2_clipping: Skewness = 1.375065761502283\n",
      "---------------------------------------\n",
      "log_binning TRANSFORMATION\n",
      "Global_active_power: Skewness = 1.7862320846320818\n",
      "Global_active_power_log_binning: Skewness = 1.0564728585910155\n",
      "Global_reactive_power: Skewness = 1.261913273793962\n",
      "Global_reactive_power_log_binning: Skewness = 1.5794361819899025\n",
      "Global_intensity: Skewness = 1.8490985505960675\n",
      "Global_intensity_log_binning: Skewness = 0.22447910636039323\n",
      "Sub_metering_1: Skewness = 5.94453693037052\n",
      "Sub_metering_1_log_binning: Skewness = 5.412631434639064\n",
      "Sub_metering_2: Skewness = 7.090548040309821\n",
      "Sub_metering_2_log_binning: Skewness = 4.376773156382356\n",
      "---------------------------------------\n"
     ]
    }
   ],
   "source": [
    "for transformer in transformations:\n",
    "    print(f'{transformer} TRANSFORMATION')\n",
    "    for col in high_skew:\n",
    "        temp = transformations[transformer](data, col)\n",
    "        temp_skew = scipy.stats.skew(temp[f'{col}_{transformer}'])\n",
    "        original_skew = scipy.stats.skew(temp[col])\n",
    "        print(f'{col}: Skewness = {original_skew}')\n",
    "        print(f'{col}_{transformer}: Skewness = {temp_skew}')\n",
    "    print('---------------------------------------')"
   ]
  },
  {
   "cell_type": "code",
   "execution_count": null,
   "metadata": {},
   "outputs": [],
   "source": []
  }
 ],
 "metadata": {
  "kernelspec": {
   "display_name": "Python 3",
   "language": "python",
   "name": "python3"
  },
  "language_info": {
   "codemirror_mode": {
    "name": "ipython",
    "version": 3
   },
   "file_extension": ".py",
   "mimetype": "text/x-python",
   "name": "python",
   "nbconvert_exporter": "python",
   "pygments_lexer": "ipython3",
   "version": "3.10.6"
  }
 },
 "nbformat": 4,
 "nbformat_minor": 2
}
